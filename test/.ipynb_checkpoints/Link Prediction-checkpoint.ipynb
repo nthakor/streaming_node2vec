{
 "cells": [
  {
   "cell_type": "code",
   "execution_count": 2,
   "metadata": {},
   "outputs": [],
   "source": [
    "%matplotlib inline\n",
    "import matplotlib.pyplot as plt\n",
    "import numpy as np\n",
    "import networkx as nx\n",
    "import pandas as pd\n",
    "from numpy import genfromtxt\n",
    "import itertools,random\n",
    "# np.set_printoptions(threshold=np.nan)\n",
    "# np.set_printoptions(threshol"
   ]
  },
  {
   "cell_type": "markdown",
   "metadata": {},
   "source": [
    "Read Embedding File"
   ]
  },
  {
   "cell_type": "code",
   "execution_count": 5,
   "metadata": {},
   "outputs": [],
   "source": [
    "df=pd.read_csv('../node2vec/emb/sampleandhold_10.emb',skiprows=1,sep=' ',header=None)\n",
    "df=df.sort_values(by=[0],ascending=True)\n",
    "df=df.rename(columns = {0:'node'})"
   ]
  },
  {
   "cell_type": "code",
   "execution_count": 36,
   "metadata": {},
   "outputs": [
    {
     "data": {
      "text/plain": [
       "array([-0.79345101, -0.138694  ,  0.013601  , ...,  0.095178  ,\n",
       "        0.31091601, -0.230775  ], dtype=float32)"
      ]
     },
     "execution_count": 36,
     "metadata": {},
     "output_type": "execute_result"
    }
   ],
   "source": [
    "# df[df['node']==5].as_matrix().astype(np.float32)[0][1:]"
   ]
  },
  {
   "cell_type": "markdown",
   "metadata": {},
   "source": [
    "Read Graph"
   ]
  },
  {
   "cell_type": "code",
   "execution_count": null,
   "metadata": {
    "collapsed": true
   },
   "outputs": [],
   "source": [
    "G=nx.read_edgelist('graph/karate.edgelist',nodetype=int)\n",
    "edgeLen=len(G.edges())\n",
    "edges_G=G.edges()\n",
    "edges_G=np.asarray(edges_G,dtype=int)\n",
    "np.random.shuffle(edges_G)"
   ]
  },
  {
   "cell_type": "markdown",
   "metadata": {},
   "source": [
    "Create Egde Feature vectors for positive class"
   ]
  },
  {
   "cell_type": "code",
   "execution_count": null,
   "metadata": {
    "collapsed": true
   },
   "outputs": [],
   "source": [
    "edge_features_1=np.empty(shape=[0,emb.shape[1]])\n",
    "for edge in edges_G:\n",
    "    node1=emb[edge[0]-1]\n",
    "    node2=emb[edge[1]-1]\n",
    "    avg=np.mean([node1,node2],axis=0)\n",
    "    hadamard=np.multiply(node1,node2)\n",
    "    diff=node1-node2\n",
    "    wL1=np.absolute(diff)\n",
    "    WL2=diff**2\n",
    "    feature=hadamard\n",
    "    edge_features_1=np.vstack([edge_features_1,hadamard])"
   ]
  },
  {
   "cell_type": "code",
   "execution_count": null,
   "metadata": {
    "collapsed": true
   },
   "outputs": [],
   "source": [
    "G_neg=nx.Graph()\n",
    "sample_len=len(G.edges())\n",
    "i=0\n",
    "E=G.edges()\n",
    "while(len(G_neg.edges())<sample_len):\n",
    "    n1=random.choice(G.nodes())\n",
    "    n2=random.choice(G.nodes())\n",
    "    if(G.has_edge(n1,n2)==False):\n",
    "        G_neg.add_edge(n1,n2)"
   ]
  },
  {
   "cell_type": "code",
   "execution_count": null,
   "metadata": {
    "collapsed": true
   },
   "outputs": [],
   "source": [
    "edge_features_0=np.empty(shape=[0,emb.shape[1]])\n",
    "for edge in G_neg.edges():\n",
    "    node1=emb[edge[0]-1]\n",
    "    node2=emb[edge[1]-1]\n",
    "    avg=np.mean([node1,node2],axis=0)\n",
    "    hadamard=np.multiply(node1,node2)\n",
    "    diff=node1-node2\n",
    "    wL1=np.absolute(diff)\n",
    "    WL2=diff**2\n",
    "    feature=hadamard\n",
    "    edge_features_0=np.vstack([edge_features_0,hadamard])"
   ]
  },
  {
   "cell_type": "code",
   "execution_count": null,
   "metadata": {
    "collapsed": true
   },
   "outputs": [],
   "source": [
    "class_0=np.zeros([edgeLen,1])\n",
    "class_1=np.ones([edgeLen,1])\n",
    "edge_features_0=np.hstack([edge_features_0,class_0])\n",
    "edge_features_1=np.hstack([edge_features_1,class_1])\n",
    "dataset=np.vstack([edge_features_0,edge_features_1])"
   ]
  },
  {
   "cell_type": "code",
   "execution_count": null,
   "metadata": {
    "collapsed": true
   },
   "outputs": [],
   "source": [
    "dataset.shape"
   ]
  },
  {
   "cell_type": "code",
   "execution_count": null,
   "metadata": {
    "collapsed": true
   },
   "outputs": [],
   "source": [
    "for i in range(10):\n",
    "    np.random.shuffle(dataset)\n",
    "X=dataset[:,:dataset.shape[1]-1]\n",
    "y=dataset[:,dataset.shape[1]-1:]\n",
    "y=np.reshape(y,[y.shape[0],])\n",
    "X_train, X_test, y_train, y_test = train_test_split(X, y, test_size=0.33, random_state=42)"
   ]
  },
  {
   "cell_type": "code",
   "execution_count": null,
   "metadata": {
    "collapsed": true
   },
   "outputs": [],
   "source": [
    "from sklearn import svm\n",
    "clf = svm.SVC(kernel='rbf')\n",
    "clf.fit(X_train,y_train)\n",
    "y_pred=clf.predict(X_test)"
   ]
  },
  {
   "cell_type": "code",
   "execution_count": null,
   "metadata": {
    "collapsed": true
   },
   "outputs": [],
   "source": [
    "from sklearn.tree import DecisionTreeClassifier\n",
    "clf = DecisionTreeClassifier(random_state=0)\n",
    "clf.fit(X_train,y_train)\n",
    "\n",
    "y_pred=clf.predict(X_test)"
   ]
  },
  {
   "cell_type": "code",
   "execution_count": null,
   "metadata": {
    "collapsed": true
   },
   "outputs": [],
   "source": [
    "from sklearn.metrics import f1_score,precision_score,recall_score\n",
    "f1=f1_score(y_test, y_pred, average='macro')\n",
    "precision=precision_score(y_test, y_pred, average='macro')\n",
    "recall=recall_score(y_test, y_pred, average='macro')"
   ]
  },
  {
   "cell_type": "code",
   "execution_count": null,
   "metadata": {
    "collapsed": true
   },
   "outputs": [],
   "source": [
    "f1, precision, recall"
   ]
  },
  {
   "cell_type": "code",
   "execution_count": null,
   "metadata": {
    "collapsed": true
   },
   "outputs": [],
   "source": []
  }
 ],
 "metadata": {
  "kernelspec": {
   "display_name": "Python 2",
   "language": "python",
   "name": "python2"
  },
  "language_info": {
   "codemirror_mode": {
    "name": "ipython",
    "version": 2
   },
   "file_extension": ".py",
   "mimetype": "text/x-python",
   "name": "python",
   "nbconvert_exporter": "python",
   "pygments_lexer": "ipython2",
   "version": "2.7.12"
  }
 },
 "nbformat": 4,
 "nbformat_minor": 1
}
