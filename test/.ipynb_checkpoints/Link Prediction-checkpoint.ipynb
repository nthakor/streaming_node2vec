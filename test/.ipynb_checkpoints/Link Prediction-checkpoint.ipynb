{
 "cells": [
  {
   "cell_type": "code",
   "execution_count": 57,
   "metadata": {
    "collapsed": true
   },
   "outputs": [],
   "source": [
    "%matplotlib inline\n",
    "import matplotlib.pyplot as plt\n",
    "import numpy as np\n",
    "import networkx as nx\n",
    "from sklearn.model_selection import train_test_split\n",
    "import pandas as pd\n",
    "from numpy import genfromtxt\n",
    "import itertools"
   ]
  },
  {
   "cell_type": "code",
   "execution_count": 38,
   "metadata": {
    "collapsed": false
   },
   "outputs": [],
   "source": [
    "df=pd.read_csv('emb/karate.emb',skiprows=1,sep=' ',header=None)\n",
    "df=df.sort_values(by=[0],ascending=True)\n",
    "emb=df.as_matrix().astype(np.float32)\n",
    "emb=emb[:,1:]"
   ]
  },
  {
   "cell_type": "code",
   "execution_count": 39,
   "metadata": {
    "collapsed": false
   },
   "outputs": [],
   "source": [
    "G=nx.read_edgelist('graph/karate.edgelist',nodetype=int)\n",
    "edgeLen=len(G.edges())\n",
    "edges_G=G.edges()\n",
    "edges_G=np.asarray(edges_G,dtype=int)\n",
    "np.random.shuffle(edges_G)"
   ]
  },
  {
   "cell_type": "code",
   "execution_count": 40,
   "metadata": {
    "collapsed": false
   },
   "outputs": [],
   "source": [
    "edge_features_1=np.empty(shape=[0,emb.shape[1]])\n",
    "for edge in edges_G:\n",
    "    node1=emb[edge[0]-1]\n",
    "    node2=emb[edge[1]-1]\n",
    "    avg=np.mean([node1,node2],axis=0)\n",
    "    hadamard=np.multiply(node1,node2)\n",
    "    diff=node1-node2\n",
    "    wL1=np.absolute(diff)\n",
    "    WL2=diff**2\n",
    "    feature=hadamard\n",
    "    edge_features_1=np.vstack([edge_features_1,hadamard])"
   ]
  },
  {
   "cell_type": "code",
   "execution_count": 41,
   "metadata": {
    "collapsed": false
   },
   "outputs": [],
   "source": [
    "G_clique=nx.Graph()\n",
    "nodeL=G.nodes()\n",
    "for [node1,node2] in itertools.product(nodeL,nodeL):\n",
    "    if(node1!=node2):\n",
    "        G_clique.add_edge(node1,node2)\n",
    "G_clique.remove_edges_from(G.edges())\n",
    "edges_G_clique=G_clique.edges()\n",
    "edges_G_clique=np.asarray(edges_G_clique,dtype=int)\n",
    "randIdx=np.random.randint(0,len(edges_G_clique),len(edges_G))\n",
    "edges_G_clique=edges_G_clique[randIdx]"
   ]
  },
  {
   "cell_type": "code",
   "execution_count": 42,
   "metadata": {
    "collapsed": true
   },
   "outputs": [],
   "source": [
    "edge_features_0=np.empty(shape=[0,emb.shape[1]])\n",
    "for edge in edges_G_clique:\n",
    "    node1=emb[edge[0]-1]\n",
    "    node2=emb[edge[1]-1]\n",
    "    avg=np.mean([node1,node2],axis=0)\n",
    "    hadamard=np.multiply(node1,node2)\n",
    "    diff=node1-node2\n",
    "    wL1=np.absolute(diff)\n",
    "    WL2=diff**2\n",
    "    feature=hadamard\n",
    "    edge_features_0=np.vstack([edge_features_0,hadamard])"
   ]
  },
  {
   "cell_type": "code",
   "execution_count": 43,
   "metadata": {
    "collapsed": false
   },
   "outputs": [
    {
     "name": "stdout",
     "output_type": "stream",
     "text": [
      "(77, 128)\n",
      "(77, 128)\n",
      "(34, 128)\n"
     ]
    }
   ],
   "source": [
    "class_0=np.zeros([edgeLen,1])\n",
    "class_1=np.ones([edgeLen,1])\n",
    "edge_features_0=np.hstack([edge_features_0,class_0])\n",
    "edge_features_1=np.hstack([edge_features_1,class_1])\n",
    "dataset=np.vstack([edge_features_0,edge_features_1])"
   ]
  },
  {
   "cell_type": "code",
   "execution_count": 44,
   "metadata": {
    "collapsed": false
   },
   "outputs": [
    {
     "data": {
      "text/plain": [
       "(154, 129)"
      ]
     },
     "execution_count": 44,
     "metadata": {},
     "output_type": "execute_result"
    }
   ],
   "source": [
    "dataset.shape"
   ]
  },
  {
   "cell_type": "code",
   "execution_count": 55,
   "metadata": {
    "collapsed": false
   },
   "outputs": [],
   "source": [
    "for i in range(10):\n",
    "    np.random.shuffle(dataset)\n",
    "X=dataset[:,:dataset.shape[1]-1]\n",
    "y=dataset[:,dataset.shape[1]-1:]\n",
    "y=np.reshape(y,[y.shape[0],])\n",
    "X_train, X_test, y_train, y_test = train_test_split(X, y, test_size=0.33, random_state=42)"
   ]
  },
  {
   "cell_type": "code",
   "execution_count": 62,
   "metadata": {
    "collapsed": false
   },
   "outputs": [],
   "source": [
    "# from sklearn import svm\n",
    "# clf = svm.SVC(kernel='rbf')\n",
    "# clf.fit(X_train,y_train)\n",
    "# y_pred=clf.predict(X_test)"
   ]
  },
  {
   "cell_type": "code",
   "execution_count": 63,
   "metadata": {
    "collapsed": true
   },
   "outputs": [],
   "source": [
    "from sklearn.tree import DecisionTreeClassifier\n",
    "clf = DecisionTreeClassifier(random_state=0)\n",
    "clf.fit(X_train,y_train)\n",
    "y_pred=clf.predict(X_test)"
   ]
  },
  {
   "cell_type": "code",
   "execution_count": 64,
   "metadata": {
    "collapsed": false
   },
   "outputs": [
    {
     "data": {
      "text/plain": [
       "(array([ 1.,  0.,  0.,  0.,  1.,  0.,  0.,  0.,  0.,  0.,  1.,  0.,  0.,\n",
       "         1.,  0.,  0.,  1.,  0.,  0.,  1.,  0.,  1.,  1.,  1.,  0.,  0.,\n",
       "         0.,  1.,  0.,  0.,  1.,  1.,  1.,  0.,  1.,  1.,  1.,  0.,  0.,\n",
       "         0.,  0.,  1.,  1.,  0.,  0.,  0.,  1.,  0.,  0.,  1.,  1.]),\n",
       " array([ 0.,  1.,  0.,  0.,  1.,  0.,  0.,  0.,  0.,  1.,  1.,  0.,  1.,\n",
       "         1.,  0.,  0.,  0.,  0.,  0.,  1.,  0.,  1.,  1.,  1.,  1.,  0.,\n",
       "         0.,  0.,  0.,  0.,  1.,  1.,  1.,  0.,  1.,  0.,  1.,  0.,  1.,\n",
       "         0.,  0.,  1.,  1.,  1.,  0.,  0.,  0.,  0.,  0.,  1.,  1.]))"
      ]
     },
     "execution_count": 64,
     "metadata": {},
     "output_type": "execute_result"
    }
   ],
   "source": [
    "from sklearn.metrics import roc_curve\n",
    "from sklearn.metrics import roc_curve, auc"
   ]
  },
  {
   "cell_type": "code",
   "execution_count": null,
   "metadata": {
    "collapsed": true
   },
   "outputs": [],
   "source": []
  }
 ],
 "metadata": {
  "kernelspec": {
   "display_name": "Python 2",
   "language": "python",
   "name": "python2"
  },
  "language_info": {
   "codemirror_mode": {
    "name": "ipython",
    "version": 2
   },
   "file_extension": ".py",
   "mimetype": "text/x-python",
   "name": "python",
   "nbconvert_exporter": "python",
   "pygments_lexer": "ipython2",
   "version": "2.7.12"
  }
 },
 "nbformat": 4,
 "nbformat_minor": 0
}
