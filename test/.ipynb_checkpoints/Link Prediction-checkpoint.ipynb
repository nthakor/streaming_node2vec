{
 "cells": [
  {
   "cell_type": "code",
   "execution_count": 1,
   "metadata": {
    "collapsed": true
   },
   "outputs": [],
   "source": [
    "%matplotlib inline\n",
    "import matplotlib.pyplot as plt\n",
    "import numpy as np\n",
    "import networkx as nx\n",
    "from sklearn.model_selection import train_test_split\n",
    "import pandas as pd\n",
    "from numpy import genfromtxt\n",
    "import itertools\n",
    "import random"
   ]
  },
  {
   "cell_type": "markdown",
   "metadata": {},
   "source": [
    "Read Embedding File"
   ]
  },
  {
   "cell_type": "code",
   "execution_count": 2,
   "metadata": {
    "collapsed": false
   },
   "outputs": [],
   "source": [
    "df=pd.read_csv('emb/karate.emb',skiprows=1,sep=' ',header=None)\n",
    "df=df.sort_values(by=[0],ascending=True)\n",
    "emb=df.as_matrix().astype(np.float32)\n",
    "emb=emb[:,1:]"
   ]
  },
  {
   "cell_type": "markdown",
   "metadata": {},
   "source": [
    "Read Graph"
   ]
  },
  {
   "cell_type": "code",
   "execution_count": 3,
   "metadata": {
    "collapsed": false
   },
   "outputs": [],
   "source": [
    "G=nx.read_edgelist('graph/karate.edgelist',nodetype=int)\n",
    "edgeLen=len(G.edges())\n",
    "edges_G=G.edges()\n",
    "edges_G=np.asarray(edges_G,dtype=int)\n",
    "np.random.shuffle(edges_G)"
   ]
  },
  {
   "cell_type": "markdown",
   "metadata": {},
   "source": [
    "Create Egde Feature vectors for positive class"
   ]
  },
  {
   "cell_type": "code",
   "execution_count": 4,
   "metadata": {
    "collapsed": false
   },
   "outputs": [],
   "source": [
    "edge_features_1=np.empty(shape=[0,emb.shape[1]])\n",
    "for edge in edges_G:\n",
    "    node1=emb[edge[0]-1]\n",
    "    node2=emb[edge[1]-1]\n",
    "    avg=np.mean([node1,node2],axis=0)\n",
    "    hadamard=np.multiply(node1,node2)\n",
    "    diff=node1-node2\n",
    "    wL1=np.absolute(diff)\n",
    "    WL2=diff**2\n",
    "    feature=hadamard\n",
    "    edge_features_1=np.vstack([edge_features_1,hadamard])"
   ]
  },
  {
   "cell_type": "code",
   "execution_count": 5,
   "metadata": {
    "collapsed": false
   },
   "outputs": [
    {
     "data": {
      "text/plain": [
       "(77, 98)"
      ]
     },
     "execution_count": 5,
     "metadata": {},
     "output_type": "execute_result"
    }
   ],
   "source": [
    "G_neg=nx.Graph()\n",
    "sample_len=len(G.edges())\n",
    "i=0\n",
    "E=G.edges()\n",
    "while(len(G_neg.edges())<sample_len):\n",
    "    n1=random.choice(G.nodes())\n",
    "    n2=random.choice(G.nodes())\n",
    "    i+=1\n",
    "    if(G.has_edge(n1,n2)==False):\n",
    "        G_neg.add_edge(n1,n2)\n",
    "\n",
    "len(G_neg.edges()),i"
   ]
  },
  {
   "cell_type": "code",
   "execution_count": 6,
   "metadata": {
    "collapsed": false
   },
   "outputs": [
    {
     "name": "stdout",
     "output_type": "stream",
     "text": [
      "False\n",
      "False\n",
      "False\n",
      "3\n",
      "[(1, 32), (1, 2), (1, 3), (1, 4), (1, 5), (1, 6), (1, 7), (1, 8), (1, 9), (1, 11), (1, 12), (1, 13), (1, 14), (1, 18), (1, 20), (1, 22), (2, 3), (2, 4), (2, 8), (2, 14), (2, 18), (2, 20), (2, 22), (2, 31), (3, 4), (3, 33), (3, 8), (3, 9), (3, 10), (3, 14), (3, 28), (3, 29), (4, 8), (4, 13), (4, 14), (5, 11), (5, 7), (6, 7), (6, 11), (6, 17), (7, 17), (9, 34), (9, 33), (10, 34), (14, 34), (15, 33), (15, 34), (16, 33), (16, 34), (19, 33), (19, 34), (20, 34), (21, 33), (21, 34), (23, 33), (23, 34), (24, 33), (24, 34), (24, 28), (24, 26), (24, 30), (25, 32), (25, 26), (25, 28), (26, 32), (27, 34), (27, 30), (28, 34), (29, 32), (29, 34), (30, 33), (30, 34), (31, 33), (31, 34), (32, 33), (32, 34), (33, 34)]\n",
      "[(1, 33), (1, 15), (1, 23), (2, 5), (2, 8), (2, 10), (2, 11), (2, 14), (2, 25), (2, 28), (2, 30), (3, 6), (3, 22), (4, 24), (4, 10), (4, 26), (5, 5), (5, 34), (5, 15), (5, 25), (5, 30), (6, 25), (7, 16), (7, 8), (7, 7), (8, 33), (8, 12), (8, 34), (8, 23), (8, 24), (9, 17), (9, 11), (9, 21), (9, 30), (10, 32), (10, 12), (10, 26), (11, 11), (11, 26), (12, 33), (12, 34), (12, 15), (12, 19), (12, 27), (12, 30), (13, 24), (13, 20), (13, 23), (14, 27), (14, 20), (14, 22), (14, 31), (15, 16), (15, 18), (16, 17), (16, 25), (16, 23), (17, 32), (18, 25), (18, 22), (19, 32), (19, 20), (19, 23), (19, 24), (19, 27), (20, 22), (21, 29), (22, 24), (22, 27), (22, 30), (23, 34), (24, 24), (25, 25), (25, 29), (26, 26), (26, 28), (26, 30)]\n"
     ]
    }
   ],
   "source": [
    "i=0\n",
    "for x in G.edges():\n",
    "    if(x in G_neg.edges()):\n",
    "        print x not in G.edges()\n",
    "        i+=1\n",
    "print i\n",
    "print G.edges()\n",
    "print G_neg.edges()"
   ]
  },
  {
   "cell_type": "code",
   "execution_count": 7,
   "metadata": {
    "collapsed": false
   },
   "outputs": [],
   "source": [
    "edge_features_0=np.empty(shape=[0,emb.shape[1]])\n",
    "for edge in G_neg.edges():\n",
    "    node1=emb[edge[0]-1]\n",
    "    node2=emb[edge[1]-1]\n",
    "    avg=np.mean([node1,node2],axis=0)\n",
    "    hadamard=np.multiply(node1,node2)\n",
    "    diff=node1-node2\n",
    "    wL1=np.absolute(diff)\n",
    "    WL2=diff**2\n",
    "    feature=hadamard\n",
    "    edge_features_0=np.vstack([edge_features_0,hadamard])"
   ]
  },
  {
   "cell_type": "code",
   "execution_count": 8,
   "metadata": {
    "collapsed": false
   },
   "outputs": [],
   "source": [
    "class_0=np.zeros([edgeLen,1])\n",
    "class_1=np.ones([edgeLen,1])\n",
    "edge_features_0=np.hstack([edge_features_0,class_0])\n",
    "edge_features_1=np.hstack([edge_features_1,class_1])\n",
    "dataset=np.vstack([edge_features_0,edge_features_1])"
   ]
  },
  {
   "cell_type": "code",
   "execution_count": 9,
   "metadata": {
    "collapsed": false
   },
   "outputs": [
    {
     "data": {
      "text/plain": [
       "(154, 129)"
      ]
     },
     "execution_count": 9,
     "metadata": {},
     "output_type": "execute_result"
    }
   ],
   "source": [
    "dataset.shape"
   ]
  },
  {
   "cell_type": "code",
   "execution_count": 10,
   "metadata": {
    "collapsed": false
   },
   "outputs": [],
   "source": [
    "for i in range(10):\n",
    "    np.random.shuffle(dataset)\n",
    "X=dataset[:,:dataset.shape[1]-1]\n",
    "y=dataset[:,dataset.shape[1]-1:]\n",
    "y=np.reshape(y,[y.shape[0],])\n",
    "X_train, X_test, y_train, y_test = train_test_split(X, y, test_size=0.33, random_state=42)"
   ]
  },
  {
   "cell_type": "code",
   "execution_count": 11,
   "metadata": {
    "collapsed": false
   },
   "outputs": [],
   "source": [
    "from sklearn import svm\n",
    "clf = svm.SVC(kernel='rbf')\n",
    "clf.fit(X_train,y_train)\n",
    "y_pred=clf.predict(X_test)"
   ]
  },
  {
   "cell_type": "code",
   "execution_count": 12,
   "metadata": {
    "collapsed": true
   },
   "outputs": [],
   "source": [
    "from sklearn.tree import DecisionTreeClassifier\n",
    "clf = DecisionTreeClassifier(random_state=0)\n",
    "clf.fit(X_train,y_train)\n",
    "y_pred=clf.predict(X_test)"
   ]
  },
  {
   "cell_type": "code",
   "execution_count": 13,
   "metadata": {
    "collapsed": false
   },
   "outputs": [],
   "source": [
    "from sklearn.metrics import f1_score,precision_score,recall_score\n",
    "f1=f1_score(y_test, y_pred, average='macro')\n",
    "precision=precision_score(y_test, y_pred, average='macro')\n",
    "recall=recall_score(y_test, y_pred, average='macro')"
   ]
  },
  {
   "cell_type": "code",
   "execution_count": 14,
   "metadata": {
    "collapsed": false
   },
   "outputs": [
    {
     "data": {
      "text/plain": [
       "(0.62514506769825928, 0.62852664576802508, 0.62615384615384617)"
      ]
     },
     "execution_count": 14,
     "metadata": {},
     "output_type": "execute_result"
    }
   ],
   "source": [
    "f1, precision, recall"
   ]
  },
  {
   "cell_type": "code",
   "execution_count": 16,
   "metadata": {
    "collapsed": false
   },
   "outputs": [
    {
     "data": {
      "text/plain": [
       "False"
      ]
     },
     "execution_count": 16,
     "metadata": {},
     "output_type": "execute_result"
    }
   ],
   "source": []
  },
  {
   "cell_type": "code",
   "execution_count": null,
   "metadata": {
    "collapsed": true
   },
   "outputs": [],
   "source": []
  }
 ],
 "metadata": {
  "kernelspec": {
   "display_name": "Python 2",
   "language": "python",
   "name": "python2"
  },
  "language_info": {
   "codemirror_mode": {
    "name": "ipython",
    "version": 2
   },
   "file_extension": ".py",
   "mimetype": "text/x-python",
   "name": "python",
   "nbconvert_exporter": "python",
   "pygments_lexer": "ipython2",
   "version": "2.7.12"
  }
 },
 "nbformat": 4,
 "nbformat_minor": 0
}
