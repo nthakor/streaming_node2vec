{
 "cells": [
  {
   "cell_type": "code",
   "execution_count": 99,
   "metadata": {
    "collapsed": true
   },
   "outputs": [],
   "source": [
    "%matplotlib inline\n",
    "import matplotlib.pyplot as plt\n",
    "import numpy as np\n",
    "import networkx as nx\n",
    "from sklearn.model_selection import train_test_split\n",
    "import pandas as pd\n",
    "from numpy import genfromtxt\n",
    "import itertools\n",
    "import random"
   ]
  },
  {
   "cell_type": "markdown",
   "metadata": {},
   "source": [
    "Read Embedding File"
   ]
  },
  {
   "cell_type": "code",
   "execution_count": 100,
   "metadata": {
    "collapsed": false
   },
   "outputs": [],
   "source": [
    "df=pd.read_csv('emb/karate.emb',skiprows=1,sep=' ',header=None)\n",
    "df=df.sort_values(by=[0],ascending=True)\n",
    "emb=df.as_matrix().astype(np.float32)\n",
    "emb=emb[:,1:]"
   ]
  },
  {
   "cell_type": "markdown",
   "metadata": {},
   "source": [
    "Read Graph"
   ]
  },
  {
   "cell_type": "code",
   "execution_count": 101,
   "metadata": {
    "collapsed": false
   },
   "outputs": [],
   "source": [
    "G=nx.read_edgelist('graph/karate.edgelist',nodetype=int)\n",
    "edgeLen=len(G.edges())\n",
    "edges_G=G.edges()\n",
    "edges_G=np.asarray(edges_G,dtype=int)\n",
    "np.random.shuffle(edges_G)"
   ]
  },
  {
   "cell_type": "markdown",
   "metadata": {},
   "source": [
    "Create Egde Feature vectors for positive class"
   ]
  },
  {
   "cell_type": "code",
   "execution_count": 102,
   "metadata": {
    "collapsed": false
   },
   "outputs": [],
   "source": [
    "edge_features_1=np.empty(shape=[0,emb.shape[1]])\n",
    "for edge in edges_G:\n",
    "    node1=emb[edge[0]-1]\n",
    "    node2=emb[edge[1]-1]\n",
    "    avg=np.mean([node1,node2],axis=0)\n",
    "    hadamard=np.multiply(node1,node2)\n",
    "    diff=node1-node2\n",
    "    wL1=np.absolute(diff)\n",
    "    WL2=diff**2\n",
    "    feature=hadamard\n",
    "    edge_features_1=np.vstack([edge_features_1,hadamard])"
   ]
  },
  {
   "cell_type": "code",
   "execution_count": 103,
   "metadata": {
    "collapsed": false
   },
   "outputs": [],
   "source": [
    "G_neg=nx.Graph()\n",
    "sample_len=len(G.edges())\n",
    "i=0\n",
    "E=G.edges()\n",
    "while(len(G_neg.edges())<sample_len):\n",
    "    n1=random.choice(G.nodes())\n",
    "    n2=random.choice(G.nodes())\n",
    "    if(G.has_edge(n1,n2)==False):\n",
    "        G_neg.add_edge(n1,n2)"
   ]
  },
  {
   "cell_type": "code",
   "execution_count": 104,
   "metadata": {
    "collapsed": false
   },
   "outputs": [],
   "source": [
    "edge_features_0=np.empty(shape=[0,emb.shape[1]])\n",
    "for edge in G_neg.edges():\n",
    "    node1=emb[edge[0]-1]\n",
    "    node2=emb[edge[1]-1]\n",
    "    avg=np.mean([node1,node2],axis=0)\n",
    "    hadamard=np.multiply(node1,node2)\n",
    "    diff=node1-node2\n",
    "    wL1=np.absolute(diff)\n",
    "    WL2=diff**2\n",
    "    feature=hadamard\n",
    "    edge_features_0=np.vstack([edge_features_0,hadamard])"
   ]
  },
  {
   "cell_type": "code",
   "execution_count": 105,
   "metadata": {
    "collapsed": false
   },
   "outputs": [],
   "source": [
    "class_0=np.zeros([edgeLen,1])\n",
    "class_1=np.ones([edgeLen,1])\n",
    "edge_features_0=np.hstack([edge_features_0,class_0])\n",
    "edge_features_1=np.hstack([edge_features_1,class_1])\n",
    "dataset=np.vstack([edge_features_0,edge_features_1])"
   ]
  },
  {
   "cell_type": "code",
   "execution_count": 106,
   "metadata": {
    "collapsed": false
   },
   "outputs": [
    {
     "data": {
      "text/plain": [
       "(154, 129)"
      ]
     },
     "execution_count": 106,
     "metadata": {},
     "output_type": "execute_result"
    }
   ],
   "source": [
    "dataset.shape"
   ]
  },
  {
   "cell_type": "code",
   "execution_count": 107,
   "metadata": {
    "collapsed": false
   },
   "outputs": [],
   "source": [
    "for i in range(10):\n",
    "    np.random.shuffle(dataset)\n",
    "X=dataset[:,:dataset.shape[1]-1]\n",
    "y=dataset[:,dataset.shape[1]-1:]\n",
    "y=np.reshape(y,[y.shape[0],])\n",
    "X_train, X_test, y_train, y_test = train_test_split(X, y, test_size=0.33, random_state=42)"
   ]
  },
  {
   "cell_type": "code",
   "execution_count": 114,
   "metadata": {
    "collapsed": false
   },
   "outputs": [],
   "source": [
    "from sklearn import svm\n",
    "clf = svm.SVC(kernel='rbf')\n",
    "clf.fit(X_train,y_train)\n",
    "y_pred=clf.predict(X_test)"
   ]
  },
  {
   "cell_type": "code",
   "execution_count": 112,
   "metadata": {
    "collapsed": true
   },
   "outputs": [],
   "source": [
    "from sklearn.tree import DecisionTreeClassifier\n",
    "clf = DecisionTreeClassifier(random_state=0)\n",
    "clf.fit(X_train,y_train)\n",
    "\n",
    "y_pred=clf.predict(X_test)"
   ]
  },
  {
   "cell_type": "code",
   "execution_count": 115,
   "metadata": {
    "collapsed": false
   },
   "outputs": [
    {
     "name": "stderr",
     "output_type": "stream",
     "text": [
      "/usr/local/lib/python2.7/dist-packages/sklearn/metrics/classification.py:1113: UndefinedMetricWarning: F-score is ill-defined and being set to 0.0 in labels with no predicted samples.\n",
      "  'precision', 'predicted', average, warn_for)\n",
      "/usr/local/lib/python2.7/dist-packages/sklearn/metrics/classification.py:1113: UndefinedMetricWarning: Precision is ill-defined and being set to 0.0 in labels with no predicted samples.\n",
      "  'precision', 'predicted', average, warn_for)\n"
     ]
    }
   ],
   "source": [
    "from sklearn.metrics import f1_score,precision_score,recall_score\n",
    "f1=f1_score(y_test, y_pred, average='macro')\n",
    "precision=precision_score(y_test, y_pred, average='macro')\n",
    "recall=recall_score(y_test, y_pred, average='macro')"
   ]
  },
  {
   "cell_type": "code",
   "execution_count": 116,
   "metadata": {
    "collapsed": false
   },
   "outputs": [
    {
     "data": {
      "text/plain": [
       "(0.29166666666666669, 0.20588235294117646, 0.5)"
      ]
     },
     "execution_count": 116,
     "metadata": {},
     "output_type": "execute_result"
    }
   ],
   "source": [
    "f1, precision, recall"
   ]
  },
  {
   "cell_type": "code",
   "execution_count": null,
   "metadata": {
    "collapsed": true
   },
   "outputs": [],
   "source": []
  }
 ],
 "metadata": {
  "kernelspec": {
   "display_name": "Python 2",
   "language": "python",
   "name": "python2"
  },
  "language_info": {
   "codemirror_mode": {
    "name": "ipython",
    "version": 2
   },
   "file_extension": ".py",
   "mimetype": "text/x-python",
   "name": "python",
   "nbconvert_exporter": "python",
   "pygments_lexer": "ipython2",
   "version": "2.7.12"
  }
 },
 "nbformat": 4,
 "nbformat_minor": 0
}
